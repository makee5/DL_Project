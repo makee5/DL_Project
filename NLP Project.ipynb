{
 "cells": [
  {
   "cell_type": "code",
   "execution_count": 6,
   "id": "initial_id",
   "metadata": {
    "collapsed": true,
    "ExecuteTime": {
     "end_time": "2024-12-23T12:47:53.198559Z",
     "start_time": "2024-12-23T12:47:53.197600Z"
    }
   },
   "outputs": [],
   "source": [
    "import praw"
   ]
  },
  {
   "cell_type": "code",
   "outputs": [],
   "source": [
    "from dotenv import load_dotenv\n",
    "import os\n",
    "\n",
    "load_dotenv()\n",
    "\n",
    "CLIENT_ID = os.getenv(\"R_CLIENT_ID\")\n",
    "CLIENT_SECRET = os.getenv(\"R_CLIENT_SECRET\")\n",
    "USER_AGENT = os.getenv(\"R_USER_AGENT\")\n",
    "USERNAME = os.getenv(\"R_USERNAME\")\n",
    "PASSWORD = os.getenv(\"R_PASSWORD\")"
   ],
   "metadata": {
    "collapsed": false,
    "ExecuteTime": {
     "end_time": "2024-12-23T12:47:53.564388Z",
     "start_time": "2024-12-23T12:47:53.557426Z"
    }
   },
   "id": "604b4f61620637a1",
   "execution_count": 7
  },
  {
   "cell_type": "code",
   "outputs": [],
   "source": [
    "reddit_instance = praw.Reddit(\n",
    "    client_id=CLIENT_ID,\n",
    "    client_secret=CLIENT_SECRET,\n",
    "    user_agent=USER_AGENT,\n",
    "    username=USERNAME,\n",
    "    password=PASSWORD\n",
    ")"
   ],
   "metadata": {
    "collapsed": false,
    "ExecuteTime": {
     "end_time": "2024-12-23T12:47:53.989874Z",
     "start_time": "2024-12-23T12:47:53.984985Z"
    }
   },
   "id": "27e15a06dbf4d104",
   "execution_count": 8
  },
  {
   "cell_type": "code",
   "outputs": [
    {
     "data": {
      "text/plain": "Subreddit(display_name='portugal2')"
     },
     "execution_count": 9,
     "metadata": {},
     "output_type": "execute_result"
    }
   ],
   "source": [
    "subreddit = reddit_instance.subreddit('portugal2')\n",
    "subreddit"
   ],
   "metadata": {
    "collapsed": false,
    "ExecuteTime": {
     "end_time": "2024-12-23T12:47:54.366145Z",
     "start_time": "2024-12-23T12:47:54.362323Z"
    }
   },
   "id": "965a7713bba772",
   "execution_count": 9
  },
  {
   "cell_type": "code",
   "outputs": [],
   "source": [
    "import pandas as pd\n",
    "from datetime import datetime\n",
    "\n",
    "top_posts = subreddit.top(limit=1000, time_filter=\"year\")\n",
    "\n",
    "posts_df = []\n",
    "for post in top_posts:\n",
    "    # Converte o timestamp Unix para um formato de data legível\n",
    "    post_date = datetime.utcfromtimestamp(post.created_utc).strftime('%d-%m-%Y')\n",
    "\n",
    "    # Adiciona os dados do post à lista\n",
    "    posts_df.append({\n",
    "        'Title': post.title,\n",
    "        'Content': post.selftext,\n",
    "        'Number of Comments': post.num_comments,\n",
    "        'Created': post_date  # Data de criação\n",
    "    })\n",
    "posts_df = pd.DataFrame(posts_df)\n",
    "posts_df.to_excel('reddit.xlsx', index=False)"
   ],
   "metadata": {
    "collapsed": false,
    "ExecuteTime": {
     "end_time": "2024-12-23T12:49:26.552507Z",
     "start_time": "2024-12-23T12:49:03.594882Z"
    }
   },
   "id": "e7130dccad701159",
   "execution_count": 11
  },
  {
   "cell_type": "code",
   "outputs": [],
   "source": [
    "import re\n",
    "from nltk.corpus import stopwords\n",
    "from nltk.tokenize import word_tokenize\n",
    "\n",
    "stop_words = set(stopwords.words('portuguese'))\n",
    "# Função para remover stopwords, números e deixar tudo em minúsculas\n",
    "def clean_text(text):\n",
    "    # Converter o texto para minúsculas\n",
    "    text = text.lower()\n",
    "    \n",
    "    # Remover números\n",
    "    text = re.sub(r'\\d+', '', text)\n",
    "    \n",
    "    # Tokenizar o texto em palavras\n",
    "    words = word_tokenize(text)\n",
    "    \n",
    "    # Remover stopwords\n",
    "    words_filtered = [word for word in words if word not in stop_words]\n",
    "    \n",
    "    # Juntar as palavras filtradas em uma string\n",
    "    return ' '.join(words_filtered)\n",
    "\n",
    "# Aplicar a função ao dataframe\n",
    "posts_df['Content'] = posts_df['Content'].apply(lambda x: clean_text(str(x)))"
   ],
   "metadata": {
    "collapsed": false
   },
   "id": "7bf956bd2c6fa953",
   "execution_count": null
  },
  {
   "cell_type": "code",
   "outputs": [],
   "source": [],
   "metadata": {
    "collapsed": false
   },
   "id": "8e6fc4b39e451df8",
   "execution_count": null
  }
 ],
 "metadata": {
  "kernelspec": {
   "display_name": "Python 3",
   "language": "python",
   "name": "python3"
  },
  "language_info": {
   "codemirror_mode": {
    "name": "ipython",
    "version": 2
   },
   "file_extension": ".py",
   "mimetype": "text/x-python",
   "name": "python",
   "nbconvert_exporter": "python",
   "pygments_lexer": "ipython2",
   "version": "2.7.6"
  }
 },
 "nbformat": 4,
 "nbformat_minor": 5
}
