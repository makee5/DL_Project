{
 "cells": [
  {
   "cell_type": "markdown",
   "source": [
    "# DL Project\n",
    "## Stock Market Prediction \n",
    "In this project we will try to predict the stock market value using the dataset Stock Market Data of USA. \n",
    "We will use the LSTM model to predict the values of future stocks\n",
    "\n",
    "**Index**: stock market index\n",
    "**Date**: date of information recorded\n",
    "**Open**: the price at which a stock starts trading.\n",
    "**High**: show the high price a stock attained for a particular period of time.\n",
    "**Low**: show the low price a stock attained for a particular period of time.\n",
    "**Close**: The close is a reference to the end of a trading session in the financial markets when the markets close for the day\n",
    "**Adj Close**: It is the price at which the last of the stock is bought or sold in the last trading session.\n",
    "**Volume**: Volume is simply the number of shares traded in a particular stock, index, or other investment over a specific period of time.\n",
    "\n",
    "\n"
   ],
   "metadata": {
    "collapsed": false
   },
   "id": "a11d398879dcd346"
  },
  {
   "cell_type": "code",
   "execution_count": null,
   "id": "initial_id",
   "metadata": {
    "collapsed": true
   },
   "outputs": [],
   "source": []
  }
 ],
 "metadata": {
  "kernelspec": {
   "display_name": "Python 3",
   "language": "python",
   "name": "python3"
  },
  "language_info": {
   "codemirror_mode": {
    "name": "ipython",
    "version": 2
   },
   "file_extension": ".py",
   "mimetype": "text/x-python",
   "name": "python",
   "nbconvert_exporter": "python",
   "pygments_lexer": "ipython2",
   "version": "2.7.6"
  }
 },
 "nbformat": 4,
 "nbformat_minor": 5
}
