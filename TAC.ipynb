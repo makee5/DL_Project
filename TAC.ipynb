{
 "cells": [
  {
   "cell_type": "code",
   "execution_count": 1,
   "id": "initial_id",
   "metadata": {
    "collapsed": true,
    "ExecuteTime": {
     "end_time": "2024-12-12T15:28:46.620968Z",
     "start_time": "2024-12-12T15:28:46.553209Z"
    }
   },
   "outputs": [],
   "source": [
    "import praw"
   ]
  },
  {
   "cell_type": "code",
   "outputs": [],
   "source": [
    "from dotenv import load_dotenv\n",
    "import os\n",
    "\n",
    "load_dotenv()\n",
    "\n",
    "CLIENT_ID = os.getenv(\"R_CLIENT_ID\")\n",
    "CLIENT_SECRET = os.getenv(\"R_CLIENT_SECRET\")\n",
    "USER_AGENT = os.getenv(\"R_USER_AGENT\")\n",
    "USERNAME = os.getenv(\"R_USERNAME\")\n",
    "PASSWORD = os.getenv(\"R_PASSWORD\")"
   ],
   "metadata": {
    "collapsed": false,
    "ExecuteTime": {
     "end_time": "2024-12-12T15:28:47.533537Z",
     "start_time": "2024-12-12T15:28:47.525843Z"
    }
   },
   "id": "5d95db9f3d202d5d",
   "execution_count": 2
  },
  {
   "cell_type": "code",
   "outputs": [],
   "source": [
    "reddit_instance = praw.Reddit(\n",
    "    client_id=CLIENT_ID,\n",
    "    client_secret=CLIENT_SECRET,\n",
    "    user_agent=USER_AGENT,\n",
    "    username=USERNAME,\n",
    "    password=PASSWORD\n",
    ")"
   ],
   "metadata": {
    "collapsed": false,
    "ExecuteTime": {
     "end_time": "2024-12-12T15:28:51.329932Z",
     "start_time": "2024-12-12T15:28:51.161040Z"
    }
   },
   "id": "ed9a1ba621b68976",
   "execution_count": 3
  },
  {
   "cell_type": "code",
   "outputs": [
    {
     "data": {
      "text/plain": "Subreddit(display_name='TrueFilm')"
     },
     "execution_count": 4,
     "metadata": {},
     "output_type": "execute_result"
    }
   ],
   "source": [
    "subreddit = reddit_instance.subreddit('TrueFilm')\n",
    "subreddit"
   ],
   "metadata": {
    "collapsed": false,
    "ExecuteTime": {
     "end_time": "2024-12-12T15:28:51.894293Z",
     "start_time": "2024-12-12T15:28:51.890369Z"
    }
   },
   "id": "634f0de29f77ac87",
   "execution_count": 4
  },
  {
   "cell_type": "code",
   "outputs": [
    {
     "name": "stdout",
     "output_type": "stream",
     "text": [
      "TrueFilm: An in-depth discussion of film\n"
     ]
    }
   ],
   "source": [
    "print(subreddit.title)"
   ],
   "metadata": {
    "collapsed": false,
    "ExecuteTime": {
     "end_time": "2024-12-12T15:28:53.046349Z",
     "start_time": "2024-12-12T15:28:53.041826Z"
    }
   },
   "id": "b485b8a6f4dd1ed3",
   "execution_count": 5
  },
  {
   "cell_type": "code",
   "outputs": [
    {
     "name": "stdout",
     "output_type": "stream",
     "text": [
      "###About Us\n",
      "-\n",
      "\n",
      "/r/TrueFilm is a subreddit for in-depth discussions about film.\n",
      "\n",
      "We want to encourage and support in-depth, intellectual discussion. Clear, polite and well-written responses should be upvoted; opinions should not be downvoted.\n",
      "\n",
      "---\n",
      "\n",
      "###Rules [(Expanded)](https://www.reddit.com/r/TrueFilm/about/rules/)\n",
      "\n",
      "**General:**\n",
      "\n",
      "1. All discussion must be related to film.\n",
      "\n",
      "2. No racism, sexism, or other forms of bigotry.\n",
      "\n",
      "3. Moderators have final discretion.\n",
      "\n",
      "**Posts:**\n",
      "\n",
      "4. Threads must promote in-depth discussion.\n",
      "\n",
      "5. Threads must point discussion in a specific direction.\n",
      "\n",
      "6. Links to outside articles must be submitted in a self-post and are subject to the above posting rules. [(Click for video essays)](https://redd.it/64fj4m)\n",
      "\n",
      "**Comments:**\n",
      "\n",
      "7. Be civil and don’t downvote opinions.\n",
      "\n",
      "8. There is a 180 character minimum for top-level comments.\n",
      "\n",
      "---\n",
      "\n",
      "###Follow us on:\n",
      "\n",
      "- [**LETTERBOXD**](http://letterboxd.com/truefilmreddit/) \n",
      "\n",
      "- [**TWITTER**](https://twitter.com/truefilmreddit)\n",
      "\n",
      "---\n",
      "\n",
      "###TrueFilm Resources:\n",
      "\n",
      "- [**TRUEFILM ARCHIVES**](https://goo.gl/2n2miP)\n",
      "\n",
      "---\n",
      "\n",
      "###TrueFilm Projects\n",
      "\n",
      "[Fun and Fancy Free Discussion](/r/TrueFilm/search?q=flair%3A%27FFF%27&sort=new&restrict_sr=on&t=all)\n",
      "\n",
      "[Theme Months](/r/TrueFilm/search?q=flair%3A%27TM%27&sort=new&restrict_sr=on&t=all)\n",
      "\n",
      "[What Have You Been Watching](/r/TrueFilm/search?q=flair%3A%27WHYBW%27&restrict_sr=on&sort=new&t=all)\n",
      "\n",
      "[Better Know a Director](/r/TrueFilm/search?q=flair%3A%27BKD%27&restrict_sr=on&sort=new&t=all)\n",
      "\n",
      "[TrueFilm Netflix Club](/r/TrueFilm/search?q=flair%3A%27TFNC%27&restrict_sr=on&sort=new&t=all)\n",
      "\n",
      "---\n",
      "\n",
      "[](https://reddit.com/r/truefilm)\n"
     ]
    }
   ],
   "source": [
    "print(subreddit.description)"
   ],
   "metadata": {
    "collapsed": false,
    "ExecuteTime": {
     "end_time": "2024-12-12T15:28:53.079439Z",
     "start_time": "2024-12-12T15:28:53.065836Z"
    }
   },
   "id": "3ed65c5b081b4b0e",
   "execution_count": 6
  },
  {
   "cell_type": "code",
   "outputs": [
    {
     "name": "stdout",
     "output_type": "stream",
     "text": [
      "484077\n"
     ]
    }
   ],
   "source": [
    "print(subreddit.subscribers)"
   ],
   "metadata": {
    "collapsed": false,
    "ExecuteTime": {
     "end_time": "2024-12-12T15:28:53.768597Z",
     "start_time": "2024-12-12T15:28:53.765413Z"
    }
   },
   "id": "6401767b34e2f059",
   "execution_count": 7
  },
  {
   "cell_type": "code",
   "outputs": [],
   "source": [
    "import pandas as pd\n",
    "from datetime import datetime\n",
    "\n",
    "top_posts = subreddit.top(limit=250, time_filter=\"year\")\n",
    "\n",
    "posts_data = []\n",
    "for post in top_posts:\n",
    "    # Converte o timestamp Unix para um formato de data legível\n",
    "    post_date = datetime.utcfromtimestamp(post.created_utc).strftime('%Y-%m-%d %H:%M:%S')\n",
    "    \n",
    "    # Adiciona os dados do post à lista\n",
    "    posts_data.append({\n",
    "        'Title': post.title,\n",
    "        'Content': post.selftext,\n",
    "        'Created': post_date  # Data de criação\n",
    "    })\n",
    "df = pd.DataFrame(posts_data)\n",
    "df.to_excel('reddit_top_posts.xlsx', index=False)"
   ],
   "metadata": {
    "collapsed": false,
    "ExecuteTime": {
     "end_time": "2024-12-12T15:29:00.472433Z",
     "start_time": "2024-12-12T15:28:55.431683Z"
    }
   },
   "id": "fb7d093a58ca76aa",
   "execution_count": 8
  },
  {
   "cell_type": "code",
   "outputs": [],
   "source": [
    "import pandas as pd\n",
    "from transformers import AutoModelForSequenceClassification, AutoTokenizer, pipeline\n",
    "import torch\n",
    "\n",
    "# Carrega o dataset dos posts que criaste\n",
    "df = pd.read_excel('reddit_top_posts.xlsx')\n",
    "\n",
    "# Carrega o modelo e o tokenizer RoBERTa\n",
    "model = AutoModelForSequenceClassification.from_pretrained('cardiffnlp/twitter-roberta-base-sentiment')\n",
    "tokenizer = AutoTokenizer.from_pretrained('cardiffnlp/twitter-roberta-base-sentiment')\n",
    "\n",
    "# Função para analisar o sentimento do texto com tokenização manual\n",
    "def analyze_sentiment(text):\n",
    "    if isinstance(text, str) and pd.notnull(text):\n",
    "        # Tokeniza o texto\n",
    "        inputs = tokenizer(text, return_tensors='pt', truncation=True, padding=True, max_length=512)\n",
    "        \n",
    "        # Passa pelo modelo\n",
    "        with torch.no_grad():\n",
    "            outputs = model(**inputs)\n",
    "        \n",
    "        # Obtém as probabilidades e determina o rótulo de sentimento\n",
    "        probs = torch.nn.functional.softmax(outputs.logits, dim=-1)\n",
    "        sentiment_label = torch.argmax(probs).item()\n",
    "        \n",
    "        # Mapeia os índices para os rótulos de sentimento: 0=Negative, 1=Neutral, 2=Positive\n",
    "        labels = ['Negative', 'Neutral', 'Positive']\n",
    "        return labels[sentiment_label]\n",
    "    else:\n",
    "        return \"No analysis\"\n",
    "\n",
    "# Aplica a função de análise de sentimento ao conteúdo do post e cria uma nova coluna 'sentiment'\n",
    "df['sentiment'] = df['Content'].apply(analyze_sentiment)\n",
    "\n",
    "# Salva o DataFrame com a nova coluna de sentimento em um novo arquivo Excel\n",
    "df.to_excel('reddit_top_posts_with_sentiment.xlsx', index=False)\n"
   ],
   "metadata": {
    "collapsed": false,
    "ExecuteTime": {
     "end_time": "2024-12-12T15:29:46.665694Z",
     "start_time": "2024-12-12T15:29:03.351850Z"
    }
   },
   "id": "aeceb0ac757feabe",
   "execution_count": 9
  },
  {
   "cell_type": "code",
   "outputs": [],
   "source": [],
   "metadata": {
    "collapsed": false
   },
   "id": "b1ce903d03f47e94"
  }
 ],
 "metadata": {
  "kernelspec": {
   "display_name": "Python 3",
   "language": "python",
   "name": "python3"
  },
  "language_info": {
   "codemirror_mode": {
    "name": "ipython",
    "version": 2
   },
   "file_extension": ".py",
   "mimetype": "text/x-python",
   "name": "python",
   "nbconvert_exporter": "python",
   "pygments_lexer": "ipython2",
   "version": "2.7.6"
  }
 },
 "nbformat": 4,
 "nbformat_minor": 5
}
