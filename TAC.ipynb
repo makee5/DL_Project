{
 "cells": [
  {
   "cell_type": "markdown",
   "source": [
    "# Avaliação de sentimentos sobre filmes usando API do Reddit\n",
    "\n",
    "Neste projeto usamos técnicas de Tecnologia e Análise de Comportamentos para analisar reviews de filmes no subreddit \"TrueFilm\". \n",
    "\n",
    "As reviews estão classificadas como \"Negative\", \"Neutral\", \"Positive\" dando nos assim oportunidade de melhor análise dos sentimentos mais comuns sobre alguns filmes. \n",
    "\n",
    "Nesta subreddit existem muitas opiniões variadas sobre diversos filmes por isso decidimos retirar só os 250 comentários com mais interações do ultimo ano.   \n",
    "\n",
    "Usamos também a ferramenta PowerBI para realizar um dashboard que nos dá a oportunidade de ter uma melhor visão sobre o que acontece no nosso dataset, podendo assim tirar melhores conclusões e poder ver a informação de forma organizada.\n",
    "\n",
    "O objetivo deste trabalho é melhorar as nossas competencias na area de Tecnologia e Análise de Comportamentos e na comunicação dos resultados.\n",
    " "
   ],
   "metadata": {
    "collapsed": false
   },
   "id": "afae30154d747549"
  },
  {
   "cell_type": "markdown",
   "source": [
    "Importamos a biblioteca praw, que nos dá acesso à API do Reddit "
   ],
   "metadata": {
    "collapsed": false
   },
   "id": "61a01de65fe76364"
  },
  {
   "cell_type": "code",
   "execution_count": null,
   "id": "initial_id",
   "metadata": {
    "collapsed": true
   },
   "outputs": [],
   "source": [
    "import praw"
   ]
  },
  {
   "cell_type": "markdown",
   "source": [
    "Para termos acesso à API necessitamos de autenticar a nossa conta"
   ],
   "metadata": {
    "collapsed": false
   },
   "id": "438806fd03ea81a4"
  },
  {
   "cell_type": "code",
   "outputs": [],
   "source": [
    "from dotenv import load_dotenv\n",
    "import os\n",
    "\n",
    "load_dotenv()\n",
    "\n",
    "CLIENT_ID = os.getenv(\"R_CLIENT_ID\")\n",
    "CLIENT_SECRET = os.getenv(\"R_CLIENT_SECRET\")\n",
    "USER_AGENT = os.getenv(\"R_USER_AGENT\")\n",
    "USERNAME = os.getenv(\"R_USERNAME\")\n",
    "PASSWORD = os.getenv(\"R_PASSWORD\")"
   ],
   "metadata": {
    "collapsed": false
   },
   "id": "5d95db9f3d202d5d",
   "execution_count": null
  },
  {
   "cell_type": "code",
   "outputs": [],
   "source": [
    "reddit_instance = praw.Reddit(\n",
    "    client_id=CLIENT_ID,\n",
    "    client_secret=CLIENT_SECRET,\n",
    "    user_agent=USER_AGENT,\n",
    "    username=USERNAME,\n",
    "    password=PASSWORD\n",
    ")"
   ],
   "metadata": {
    "collapsed": false
   },
   "id": "ed9a1ba621b68976",
   "execution_count": null
  },
  {
   "cell_type": "markdown",
   "source": [
    "Usamos a função *subreddit('TrueFilm')* para entrarmos na subreddit que nos interessa"
   ],
   "metadata": {
    "collapsed": false
   },
   "id": "22db930b5139c914"
  },
  {
   "cell_type": "code",
   "outputs": [],
   "source": [
    "subreddit = reddit_instance.subreddit('TrueFilm')\n",
    "subreddit"
   ],
   "metadata": {
    "collapsed": false
   },
   "id": "634f0de29f77ac87",
   "execution_count": null
  },
  {
   "cell_type": "markdown",
   "source": [
    "#### Com os seguintes codigos podemos observar algumas informações sobre o subreddit"
   ],
   "metadata": {
    "collapsed": false
   },
   "id": "ea075711bca36d7b"
  },
  {
   "cell_type": "code",
   "outputs": [],
   "source": [
    "print(subreddit.title)"
   ],
   "metadata": {
    "collapsed": false
   },
   "id": "b485b8a6f4dd1ed3",
   "execution_count": null
  },
  {
   "cell_type": "code",
   "outputs": [],
   "source": [
    "print(subreddit.description)"
   ],
   "metadata": {
    "collapsed": false
   },
   "id": "3ed65c5b081b4b0e",
   "execution_count": null
  },
  {
   "cell_type": "code",
   "outputs": [],
   "source": [
    "print(subreddit.subscribers)"
   ],
   "metadata": {
    "collapsed": false
   },
   "id": "6401767b34e2f059",
   "execution_count": null
  },
  {
   "cell_type": "markdown",
   "source": [
    "Para acessar os comentários com mais interações, utilizamos a função *top* com os parâmetros *limit* e *time_filter*, que respetivamente restringem o número de posts e definem o período de tempo considerado.\n",
    "\n",
    "Criamos também um ciclo for para acessar as todos os 250 comentários retirando o titulo, conteudo e data de publicação e alteramos a data para o formato YYYY-MM-DD HH:MM:SS e guardamos tudo num Excel chamado *reddit_top_posts*."
   ],
   "metadata": {
    "collapsed": false
   },
   "id": "1d5e45f68d408cc9"
  },
  {
   "cell_type": "code",
   "outputs": [],
   "source": [
    "import pandas as pd\n",
    "from datetime import datetime\n",
    "\n",
    "top_posts = subreddit.top(limit=250, time_filter=\"year\")\n",
    "\n",
    "posts_data = []\n",
    "for post in top_posts:\n",
    "    # Converte o timestamp Unix para um formato de data legível\n",
    "    post_date = datetime.utcfromtimestamp(post.created_utc).strftime('%Y-%m-%d %H:%M:%S')\n",
    "    \n",
    "    # Adiciona os dados do post à lista\n",
    "    posts_data.append({\n",
    "        'Title': post.title,\n",
    "        'Content': post.selftext,\n",
    "        'Created': post_date  # Data de criação\n",
    "    })\n",
    "df = pd.DataFrame(posts_data)\n",
    "df.to_excel('reddit_top_posts.xlsx', index=False)"
   ],
   "metadata": {
    "collapsed": false
   },
   "id": "fb7d093a58ca76aa",
   "execution_count": null
  },
  {
   "cell_type": "markdown",
   "source": [
    "## Pré-Processamento"
   ],
   "metadata": {
    "collapsed": false
   },
   "id": "d5ea27bdaf0da6e8"
  },
  {
   "cell_type": "markdown",
   "source": [
    "Primeiro, para conseguirmos extrair mais informação retiramos as stopwords dos comentários.\n",
    "\n",
    "Depois utilizamos o código para analisar o sentimento dos comentários retirados do Excel *reddit_top_posts*. Para isso, carregamos um modelo de classificação de sentimento pré-treinado (RoBERTa) e seu tokenizer, ambos disponíveis através da biblioteca `transformers`.\n",
    "\n",
    "Foi criada uma função chamada *analyze_sentiment* que recebe o conteúdo do post, tokeniza o texto e o passa pelo modelo para gerar uma previsão de sentimento. O modelo retorna as probabilidades de cada classe (negativo, neutro, positivo) e o sentimento mais provável é selecionado. \n",
    "\n",
    "Em seguida, aplicamos essa função ao conteúdo dos posts, criando uma nova coluna no DataFrame chamada *sentiment*. Por fim, o DataFrame atualizado, contendo as previsões de sentimento, é salvo num novo arquivo Excel chamado *reddit_top_posts_with_sentiment*."
   ],
   "metadata": {
    "collapsed": false
   },
   "id": "a0e86940e393e898"
  },
  {
   "cell_type": "code",
   "outputs": [],
   "source": [
    "import pandas as pd\n",
    "from transformers import AutoModelForSequenceClassification, AutoTokenizer\n",
    "import torch\n",
    "from nltk.corpus import stopwords\n",
    "from nltk.tokenize import word_tokenize\n",
    "\n",
    "# Carrega o dataset dos posts que criaste\n",
    "df = pd.read_excel('reddit_top_posts.xlsx')\n",
    "stop_words = set(stopwords.words('english'))\n",
    "\n",
    "# Função para remover stopwords\n",
    "def remove_stopwords(text):\n",
    "    words = word_tokenize(text)  # Tokenizar o texto em palavras\n",
    "    words_filtered = [word for word in words if word.lower() not in stop_words]\n",
    "    return ' '.join(words_filtered)\n",
    "\n",
    "# Aplicar a função na coluna de textos\n",
    "df['Content'] = df['Content'].apply(remove_stopwords)\n",
    "\n",
    "# Carrega o modelo e o tokenizer RoBERTa\n",
    "model = AutoModelForSequenceClassification.from_pretrained('cardiffnlp/twitter-roberta-base-sentiment')\n",
    "tokenizer = AutoTokenizer.from_pretrained('cardiffnlp/twitter-roberta-base-sentiment')\n",
    "\n",
    "# Função para analisar o sentimento do texto com tokenização manual\n",
    "def analyze_sentiment(text):\n",
    "    if isinstance(text, str) and pd.notnull(text):\n",
    "        # Tokeniza o texto\n",
    "        inputs = tokenizer(text, return_tensors='pt', truncation=True, padding=True, max_length=512)\n",
    "        \n",
    "        # Passa pelo modelo\n",
    "        with torch.no_grad():\n",
    "            outputs = model(**inputs)\n",
    "        \n",
    "        # Obtém as probabilidades e determina o rótulo de sentimento\n",
    "        probs = torch.nn.functional.softmax(outputs.logits, dim=-1)\n",
    "        sentiment_label = torch.argmax(probs).item()\n",
    "        \n",
    "        # Mapeia os índices para os rótulos de sentimento: 0=Negative, 1=Neutral, 2=Positive\n",
    "        labels = ['Negative', 'Neutral', 'Positive']\n",
    "        return labels[sentiment_label]\n",
    "    else:\n",
    "        return \"No analysis\"\n",
    "\n",
    "# Aplica a função de análise de sentimento ao conteúdo do post e cria uma nova coluna 'sentiment'\n",
    "df['sentiment'] = df['Content'].apply(analyze_sentiment)\n",
    "\n",
    "# Salva o DataFrame com a nova coluna de sentimento em um novo arquivo Excel\n",
    "df.to_excel('reddit_top_posts_with_sentiment.xlsx', index=False)\n"
   ],
   "metadata": {
    "collapsed": false
   },
   "id": "aeceb0ac757feabe",
   "execution_count": null
  },
  {
   "cell_type": "markdown",
   "source": [
    "# Dashboard"
   ],
   "metadata": {
    "collapsed": false
   },
   "id": "f8def87c3fac7612"
  },
  {
   "cell_type": "markdown",
   "source": [
    "<img src=\"power_bi.png\" height=\"1000\">"
   ],
   "metadata": {
    "collapsed": false
   },
   "id": "b87d2715a649a9a7"
  },
  {
   "cell_type": "markdown",
   "source": [
    "## Conclusão"
   ],
   "metadata": {
    "collapsed": false
   },
   "id": "a5e89530cb887dd4"
  },
  {
   "cell_type": "markdown",
   "source": [
    "A ferramenta utilizada para o desenvolvimento do dashboard foi o Power BI, escolhida por já termos experiência prévia com ela em outra cadeira, o que facilitou o processo. O objetivo principal foi realizar uma Análise de Sentimentos das Reviews de Filmes. Criamos um gráfico de barras que apresenta a quantidade de comentários classificados como neutros, positivos e negativos. No entanto, como os números exatos não eram facilmente visíveis no gráfico, adicionamos uma \"caixa de cartões\", que exibe o total de comentários.\n",
    "Para aprofundar a análise, incluímos três filtros interativos: o primeiro, de ano e mês, para identificar os períodos com maior volume de comentários, o segundo, de dias da semana, para descobrir em quais dias as pessoas mais comentam ou interagem e o terceiro, de título e texto do comentário, para explorar detalhes específicos e identificar rapidamente sentimentos positivos ou negativos. Além disso, criamos um segundo gráfico de barras, que mostra os dias e meses com maior volume de comentários, permitindo uma visão mais clara das tendências temporais.\n",
    "Para complementar o dashboard, adicionamos uma \"Word Cloud\" (Nuvem de Palavras), que destacou as palavras mais frequentes nos comentários, como nomes de filmes ou adjetivos comuns. Também implementamos uma barra de pesquisa, que possibilitou a busca de qualquer palavra, frase ou nome de filme, mostrando se os comentários que contêm essa palavra foram classificados como positivos, neutros ou negativos, bem como os dias e anos em que apareceram e outras palavras associadas.\n",
    "Com base no dataset analisado, concluímos que o mês com maior volume de comentários foi março, o dia da semana mais comentado foi a quarta-feira, e a maioria dos comentários apresenta um sentimento neutro. Em resumo, o dashboard possibilitou uma análise clara e interativa, identificando tendências de comportamento nos comentários e oferecendo insights úteis sobre a receção de filmes em diferentes períodos e contextos. Essas conclusões reforçam o potencial do Power BI para transformar dados complexos em informações acessíveis e significativas."
   ],
   "metadata": {
    "collapsed": false
   },
   "id": "7fbaec148f8bc85c"
  },
  {
   "cell_type": "markdown",
   "source": [
    "\n"
   ],
   "metadata": {
    "collapsed": false
   },
   "id": "3500d6a5a0c7afaf"
  },
  {
   "cell_type": "code",
   "outputs": [],
   "source": [],
   "metadata": {
    "collapsed": false
   },
   "id": "d20c0d65b1e2c0c5"
  }
 ],
 "metadata": {
  "kernelspec": {
   "display_name": "Python 3",
   "language": "python",
   "name": "python3"
  },
  "language_info": {
   "codemirror_mode": {
    "name": "ipython",
    "version": 2
   },
   "file_extension": ".py",
   "mimetype": "text/x-python",
   "name": "python",
   "nbconvert_exporter": "python",
   "pygments_lexer": "ipython2",
   "version": "2.7.6"
  }
 },
 "nbformat": 4,
 "nbformat_minor": 5
}
